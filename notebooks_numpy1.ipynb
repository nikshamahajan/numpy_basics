{
  "metadata": {
    "kernelspec": {
      "name": "python",
      "display_name": "Python (Pyodide)",
      "language": "python"
    },
    "language_info": {
      "codemirror_mode": {
        "name": "python",
        "version": 3
      },
      "file_extension": ".py",
      "mimetype": "text/x-python",
      "name": "python",
      "nbconvert_exporter": "python",
      "pygments_lexer": "ipython3",
      "version": "3.8"
    }
  },
  "nbformat_minor": 5,
  "nbformat": 4,
  "cells": [
    {
      "cell_type": "code",
      "source": "",
      "metadata": {},
      "execution_count": null,
      "outputs": [],
      "id": "adaacc5b-0f5e-4bbd-a99c-b501d5b3f0ca"
    },
    {
      "cell_type": "markdown",
      "source": "# Introduction to the JupyterLab and Jupyter Notebooks\n\nThis is a short introduction to two of the flagship tools created by [the Jupyter Community](https://jupyter.org).\n\n> **⚠️Experimental!⚠️**: This is an experimental interface provided by the [JupyterLite project](https://jupyterlite.readthedocs.io/en/latest/). It embeds an entire JupyterLab interface, with many popular packages for scientific computing, in your browser. There may be minor differences in behavior between JupyterLite and the JupyterLab you install locally. You may also encounter some bugs or unexpected behavior. To report any issues, or to get involved with the JupyterLite project, see [the JupyterLite repository](https://github.com/jupyterlite/jupyterlite/issues?q=is%3Aissue+is%3Aopen+sort%3Aupdated-desc).\n\n## JupyterLab 🧪\n\n**JupyterLab** is a next-generation web-based user interface for Project Jupyter. It enables you to work with documents and activities such as Jupyter notebooks, text editors, terminals, and custom components in a flexible, integrated, and extensible manner. It is the interface that you're looking at right now.\n\n**For an overview of the JupyterLab interface**, see the **JupyterLab Welcome Tour** on this page, by going to `Help -> Welcome Tour` and following the prompts.\n\n> **See Also**: For a more in-depth tour of JupyterLab with a full environment that runs in the cloud, see [the JupyterLab introduction on Binder](https://mybinder.org/v2/gh/jupyterlab/jupyterlab-demo/HEAD?urlpath=lab/tree/demo).\n\n## Jupyter Notebooks 📓\n\n**Jupyter Notebooks** are a community standard for communicating and performing interactive computing. They are a document that blends computations, outputs, explanatory text, mathematics, images, and rich media representations of objects.\n\nJupyterLab is one interface used to create and interact with Jupyter Notebooks.\n\n**For an overview of Jupyter Notebooks**, see the **JupyterLab Welcome Tour** on this page, by going to `Help -> Notebook Tour` and following the prompts.\n\n> **See Also**: For a more in-depth tour of Jupyter Notebooks and the Classic Jupyter Notebook interface, see [the Jupyter Notebook IPython tutorial on Binder](https://mybinder.org/v2/gh/ipython/ipython-in-depth/HEAD?urlpath=tree/binder/Index.ipynb).\n\n## An example: visualizing data in the notebook ✨\n\nBelow is an example of a code cell. We'll visualize some simple data using two popular packages in Python. We'll use [NumPy](https://numpy.org/) to create some random data, and [Matplotlib](https://matplotlib.org) to visualize it.\n\nNote how the code and the results of running the code are bundled together.",
      "metadata": {},
      "id": "a35eeb9f-df70-4ab1-a243-2d2025888eb0"
    },
    {
      "cell_type": "code",
      "source": "import numpy as np",
      "metadata": {
        "trusted": true
      },
      "execution_count": 1,
      "outputs": [],
      "id": "3c095b19-e76d-4188-a77d-6ccce7717280"
    },
    {
      "cell_type": "code",
      "source": "my_list=[1,2,3]",
      "metadata": {
        "trusted": true
      },
      "execution_count": 2,
      "outputs": [],
      "id": "b574d9d9-8553-40c0-851a-8d98ad81c84a"
    },
    {
      "cell_type": "code",
      "source": "type(my_list)",
      "metadata": {
        "trusted": true
      },
      "execution_count": 3,
      "outputs": [
        {
          "execution_count": 3,
          "output_type": "execute_result",
          "data": {
            "text/plain": "list"
          },
          "metadata": {}
        }
      ],
      "id": "e8b7bd59-eed9-45de-bdf4-820a8d73f31e"
    },
    {
      "cell_type": "code",
      "source": "myarray=np.array(my_list)",
      "metadata": {
        "trusted": true
      },
      "execution_count": 4,
      "outputs": [],
      "id": "d1a2f51a-9987-48f7-b4ec-b30cde96feb5"
    },
    {
      "cell_type": "code",
      "source": "type(myarray)",
      "metadata": {
        "trusted": true
      },
      "execution_count": 5,
      "outputs": [
        {
          "execution_count": 5,
          "output_type": "execute_result",
          "data": {
            "text/plain": "numpy.ndarray"
          },
          "metadata": {}
        }
      ],
      "id": "800d2ea1-9f29-4165-8bd6-81404afda0b2"
    },
    {
      "cell_type": "code",
      "source": "np.arange(0,10,2)",
      "metadata": {
        "trusted": true
      },
      "execution_count": 6,
      "outputs": [
        {
          "execution_count": 6,
          "output_type": "execute_result",
          "data": {
            "text/plain": "array([0, 2, 4, 6, 8])"
          },
          "metadata": {}
        }
      ],
      "id": "55795d92-6ae8-454c-a496-7f73382c70e1"
    },
    {
      "cell_type": "code",
      "source": "np.zeros(shape=(5,5))",
      "metadata": {
        "trusted": true
      },
      "execution_count": 7,
      "outputs": [
        {
          "execution_count": 7,
          "output_type": "execute_result",
          "data": {
            "text/plain": "array([[0., 0., 0., 0., 0.],\n       [0., 0., 0., 0., 0.],\n       [0., 0., 0., 0., 0.],\n       [0., 0., 0., 0., 0.],\n       [0., 0., 0., 0., 0.]])"
          },
          "metadata": {}
        }
      ],
      "id": "95193b5c-476d-46d5-b951-941ce6a7b590"
    },
    {
      "cell_type": "code",
      "source": "np.ones(shape=(2,4))",
      "metadata": {
        "trusted": true
      },
      "execution_count": 8,
      "outputs": [
        {
          "execution_count": 8,
          "output_type": "execute_result",
          "data": {
            "text/plain": "array([[1., 1., 1., 1.],\n       [1., 1., 1., 1.]])"
          },
          "metadata": {}
        }
      ],
      "id": "b55d4317-1fac-4d27-8703-a5b3c13617b6"
    },
    {
      "cell_type": "code",
      "source": "np.random.seed(101)\narr= np.random.randint(0,100,10)",
      "metadata": {
        "trusted": true
      },
      "execution_count": 9,
      "outputs": [],
      "id": "bdf2b240-0602-45a0-baca-7a41cab395f3"
    },
    {
      "cell_type": "code",
      "source": "arr",
      "metadata": {
        "trusted": true
      },
      "execution_count": 10,
      "outputs": [
        {
          "execution_count": 10,
          "output_type": "execute_result",
          "data": {
            "text/plain": "array([95, 11, 81, 70, 63, 87, 75,  9, 77, 40])"
          },
          "metadata": {}
        }
      ],
      "id": "9fc51b10-3709-401f-9735-b18b9a677968"
    },
    {
      "cell_type": "code",
      "source": "arr2= np.random.randint(0,100,10)",
      "metadata": {
        "trusted": true
      },
      "execution_count": 11,
      "outputs": [],
      "id": "3dbfcc60-26d5-4377-ba26-de1fe7f85b28"
    },
    {
      "cell_type": "code",
      "source": "arr2",
      "metadata": {
        "trusted": true
      },
      "execution_count": 12,
      "outputs": [
        {
          "execution_count": 12,
          "output_type": "execute_result",
          "data": {
            "text/plain": "array([ 4, 63, 40, 60, 92, 64,  5, 12, 93, 40])"
          },
          "metadata": {}
        }
      ],
      "id": "dde2519a-2290-4013-bbb8-1a7dba120860"
    },
    {
      "cell_type": "code",
      "source": "arr.max()",
      "metadata": {
        "trusted": true
      },
      "execution_count": 13,
      "outputs": [
        {
          "execution_count": 13,
          "output_type": "execute_result",
          "data": {
            "text/plain": "95"
          },
          "metadata": {}
        }
      ],
      "id": "d7e92bfa-9694-485e-b937-5b825c212371"
    },
    {
      "cell_type": "code",
      "source": "arr.argmax()",
      "metadata": {
        "trusted": true
      },
      "execution_count": 14,
      "outputs": [
        {
          "execution_count": 14,
          "output_type": "execute_result",
          "data": {
            "text/plain": "0"
          },
          "metadata": {}
        }
      ],
      "id": "a5d659e5-5bee-4f80-882d-325e1e10cee1"
    },
    {
      "cell_type": "code",
      "source": "arr.min()",
      "metadata": {
        "trusted": true
      },
      "execution_count": 15,
      "outputs": [
        {
          "execution_count": 15,
          "output_type": "execute_result",
          "data": {
            "text/plain": "9"
          },
          "metadata": {}
        }
      ],
      "id": "e28a67dd-390b-4533-8c88-97139fdbeacf"
    },
    {
      "cell_type": "code",
      "source": "arr.argmin()",
      "metadata": {
        "trusted": true
      },
      "execution_count": 16,
      "outputs": [
        {
          "execution_count": 16,
          "output_type": "execute_result",
          "data": {
            "text/plain": "7"
          },
          "metadata": {}
        }
      ],
      "id": "1f2b1b0a-30bb-47d1-af69-da9c1b3932ea"
    },
    {
      "cell_type": "code",
      "source": "arr.mean()",
      "metadata": {
        "trusted": true
      },
      "execution_count": 17,
      "outputs": [
        {
          "execution_count": 17,
          "output_type": "execute_result",
          "data": {
            "text/plain": "60.8"
          },
          "metadata": {}
        }
      ],
      "id": "76b21e39-b3cd-4ac2-928b-8fd5cff539cd"
    },
    {
      "cell_type": "code",
      "source": "arr.reshape((2,5))",
      "metadata": {
        "trusted": true
      },
      "execution_count": 18,
      "outputs": [
        {
          "execution_count": 18,
          "output_type": "execute_result",
          "data": {
            "text/plain": "array([[95, 11, 81, 70, 63],\n       [87, 75,  9, 77, 40]])"
          },
          "metadata": {}
        }
      ],
      "id": "8ccf4b16-484c-4ddb-9b34-948b6c3bab90"
    },
    {
      "cell_type": "code",
      "source": "mat=np.arange(0,100).reshape(10,10)",
      "metadata": {
        "trusted": true
      },
      "execution_count": 19,
      "outputs": [],
      "id": "110c8d0c-f60c-4862-b3cc-88cd222aa148"
    },
    {
      "cell_type": "markdown",
      "source": "mat",
      "metadata": {},
      "id": "b5570974-cc1b-4d2d-b4d1-8e5e47b059a6"
    },
    {
      "cell_type": "code",
      "source": "mat.shape",
      "metadata": {
        "trusted": true
      },
      "execution_count": 20,
      "outputs": [
        {
          "execution_count": 20,
          "output_type": "execute_result",
          "data": {
            "text/plain": "(10, 10)"
          },
          "metadata": {}
        }
      ],
      "id": "f04f0101-aa81-48f9-89f4-4420adfe01b6"
    },
    {
      "cell_type": "code",
      "source": "mat",
      "metadata": {
        "trusted": true
      },
      "execution_count": 21,
      "outputs": [
        {
          "execution_count": 21,
          "output_type": "execute_result",
          "data": {
            "text/plain": "array([[ 0,  1,  2,  3,  4,  5,  6,  7,  8,  9],\n       [10, 11, 12, 13, 14, 15, 16, 17, 18, 19],\n       [20, 21, 22, 23, 24, 25, 26, 27, 28, 29],\n       [30, 31, 32, 33, 34, 35, 36, 37, 38, 39],\n       [40, 41, 42, 43, 44, 45, 46, 47, 48, 49],\n       [50, 51, 52, 53, 54, 55, 56, 57, 58, 59],\n       [60, 61, 62, 63, 64, 65, 66, 67, 68, 69],\n       [70, 71, 72, 73, 74, 75, 76, 77, 78, 79],\n       [80, 81, 82, 83, 84, 85, 86, 87, 88, 89],\n       [90, 91, 92, 93, 94, 95, 96, 97, 98, 99]])"
          },
          "metadata": {}
        }
      ],
      "id": "3f5dadec-6627-42b6-88cf-fd21be7e9eef"
    },
    {
      "cell_type": "code",
      "source": "row=0\ncol=1",
      "metadata": {
        "trusted": true
      },
      "execution_count": 22,
      "outputs": [],
      "id": "cafe8a22-9be6-439f-a586-a110f098a2f6"
    },
    {
      "cell_type": "code",
      "source": "mat[row,col]",
      "metadata": {
        "trusted": true
      },
      "execution_count": 23,
      "outputs": [
        {
          "execution_count": 23,
          "output_type": "execute_result",
          "data": {
            "text/plain": "1"
          },
          "metadata": {}
        }
      ],
      "id": "9b1d392c-e3ac-4a83-a143-f44b31ce6564"
    },
    {
      "cell_type": "code",
      "source": "row=4\ncol=6",
      "metadata": {
        "trusted": true
      },
      "execution_count": 24,
      "outputs": [],
      "id": "b505b09e-9f1b-4617-8c50-794c6b2ac708"
    },
    {
      "cell_type": "code",
      "source": "mat[row,col]",
      "metadata": {
        "trusted": true
      },
      "execution_count": 25,
      "outputs": [
        {
          "execution_count": 25,
          "output_type": "execute_result",
          "data": {
            "text/plain": "46"
          },
          "metadata": {}
        }
      ],
      "id": "2eaa82b3-1ce4-4fdb-9bf4-6bd63ab8499f"
    },
    {
      "cell_type": "code",
      "source": "mat[:,1]",
      "metadata": {
        "trusted": true
      },
      "execution_count": 26,
      "outputs": [
        {
          "execution_count": 26,
          "output_type": "execute_result",
          "data": {
            "text/plain": "array([ 1, 11, 21, 31, 41, 51, 61, 71, 81, 91])"
          },
          "metadata": {}
        }
      ],
      "id": "36b66b1f-4cab-40c2-8339-808b54b17a3a"
    },
    {
      "cell_type": "code",
      "source": "mat[2,:]",
      "metadata": {
        "trusted": true
      },
      "execution_count": 27,
      "outputs": [
        {
          "execution_count": 27,
          "output_type": "execute_result",
          "data": {
            "text/plain": "array([20, 21, 22, 23, 24, 25, 26, 27, 28, 29])"
          },
          "metadata": {}
        }
      ],
      "id": "5dda9bb7-2051-43d1-a224-981a78f10c01"
    },
    {
      "cell_type": "code",
      "source": "mat[:,1].reshape(10,)",
      "metadata": {
        "trusted": true
      },
      "execution_count": 28,
      "outputs": [
        {
          "execution_count": 28,
          "output_type": "execute_result",
          "data": {
            "text/plain": "array([ 1, 11, 21, 31, 41, 51, 61, 71, 81, 91])"
          },
          "metadata": {}
        }
      ],
      "id": "36c7bd8d-d9cd-4360-9d64-9a9af301ed1c"
    },
    {
      "cell_type": "code",
      "source": "mat[:,1].reshape(10,1)",
      "metadata": {
        "trusted": true
      },
      "execution_count": 29,
      "outputs": [
        {
          "execution_count": 29,
          "output_type": "execute_result",
          "data": {
            "text/plain": "array([[ 1],\n       [11],\n       [21],\n       [31],\n       [41],\n       [51],\n       [61],\n       [71],\n       [81],\n       [91]])"
          },
          "metadata": {}
        }
      ],
      "id": "262bfa87-817b-4b44-9f14-120f76e7d5c8"
    },
    {
      "cell_type": "code",
      "source": "",
      "metadata": {
        "trusted": true
      },
      "execution_count": null,
      "outputs": [],
      "id": "5914adf3-fee0-4823-9f46-a9d317266ebc"
    },
    {
      "cell_type": "code",
      "source": "\n",
      "metadata": {
        "trusted": true
      },
      "execution_count": null,
      "outputs": [],
      "id": "4fc92502-b9fd-4948-8751-1f8d0a83effc"
    },
    {
      "cell_type": "code",
      "source": "",
      "metadata": {
        "trusted": true
      },
      "execution_count": null,
      "outputs": [],
      "id": "584a36bf-a271-43fe-bf67-76f053707ce7"
    },
    {
      "cell_type": "code",
      "source": "",
      "metadata": {
        "trusted": true
      },
      "execution_count": null,
      "outputs": [],
      "id": "d8004adb-fc1c-43a0-b6a2-91f9f54a0c2d"
    },
    {
      "cell_type": "code",
      "source": "",
      "metadata": {
        "trusted": true
      },
      "execution_count": null,
      "outputs": [],
      "id": "a7a06808-d363-4448-b947-0872fda1535d"
    },
    {
      "cell_type": "code",
      "source": "",
      "metadata": {},
      "execution_count": null,
      "outputs": [],
      "id": "2c02f94b-0c79-4e84-b4a5-9383f767cc6f"
    },
    {
      "cell_type": "code",
      "source": "",
      "metadata": {},
      "execution_count": null,
      "outputs": [],
      "id": "496bbef5-b627-47c8-b793-e3b321bda49d"
    },
    {
      "cell_type": "code",
      "source": "",
      "metadata": {},
      "execution_count": null,
      "outputs": [],
      "id": "88ff24b8-490b-4665-bb5c-4898cb31551b"
    },
    {
      "cell_type": "code",
      "source": "",
      "metadata": {},
      "execution_count": null,
      "outputs": [],
      "id": "cd9d0c5b-4f37-4fdd-ab5b-1641c0072cdd"
    },
    {
      "cell_type": "code",
      "source": "",
      "metadata": {},
      "execution_count": null,
      "outputs": [],
      "id": "acaab13e-5d0b-481d-860e-b6bd1f52bf75"
    }
  ]
}